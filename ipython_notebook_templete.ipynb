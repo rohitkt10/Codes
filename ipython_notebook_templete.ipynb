{
 "metadata": {
  "name": "",
  "signature": "sha256:d8448be0929afd92006268843178614de8a3fc6baa306875a1a0f4a5bd3ea2d2"
 },
 "nbformat": 3,
 "nbformat_minor": 0,
 "worksheets": [
  {
   "cells": [
    {
     "cell_type": "heading",
     "level": 1,
     "metadata": {},
     "source": [
      "A Templete for an Ipython Notebook"
     ]
    },
    {
     "cell_type": "markdown",
     "metadata": {},
     "source": [
      "< Some text here >"
     ]
    },
    {
     "cell_type": "heading",
     "level": 2,
     "metadata": {},
     "source": [
      "1. Section 1"
     ]
    },
    {
     "cell_type": "markdown",
     "metadata": {},
     "source": [
      "< Some text here >"
     ]
    },
    {
     "cell_type": "heading",
     "level": 3,
     "metadata": {},
     "source": [
      "1.1 Section 1.1"
     ]
    },
    {
     "cell_type": "markdown",
     "metadata": {},
     "source": [
      "< Some text here >"
     ]
    },
    {
     "cell_type": "markdown",
     "metadata": {},
     "source": [
      "<b> Expression in bold </b> \n",
      "\n",
      "Ipython notebooks break down content into various cells. Each cell may either contain Python code or Markdown text. Markdown is a mark up language that has support for plain text, HTML, LaTeX typesetting among others. \n",
      "\n",
      "Each code cell is executed within the cell and the output is displayed immediately after the block. "
     ]
    },
    {
     "cell_type": "markdown",
     "metadata": {},
     "source": [
      "<b> Mathematical Typesetting using LaTeX </b>\n",
      "\n",
      " An equation typeset in LaTeX\n",
      " \n",
      "$ \\nabla.V = 0  $\n"
     ]
    },
    {
     "cell_type": "markdown",
     "metadata": {},
     "source": [
      "UNIX commands:"
     ]
    },
    {
     "cell_type": "code",
     "collapsed": false,
     "input": [
      "pwd"
     ],
     "language": "python",
     "metadata": {},
     "outputs": [
      {
       "metadata": {},
       "output_type": "pyout",
       "prompt_number": 1,
       "text": [
        "u'/Users/rohitkt10'"
       ]
      }
     ],
     "prompt_number": 1
    },
    {
     "cell_type": "code",
     "collapsed": false,
     "input": [
      "ls"
     ],
     "language": "python",
     "metadata": {},
     "outputs": [
      {
       "output_type": "stream",
       "stream": "stdout",
       "text": [
        "\u001b[34mApplications\u001b[m\u001b[m/         \u001b[34mMovies\u001b[m\u001b[m/               Untitled1.ipynb\r\n",
        "\u001b[34mDesktop\u001b[m\u001b[m/              \u001b[34mMusic\u001b[m\u001b[m/                Untitled2.ipynb\r\n",
        "\u001b[34mDocuments\u001b[m\u001b[m/            \u001b[34mPictures\u001b[m\u001b[m/             \u001b[34manaconda\u001b[m\u001b[m/\r\n",
        "\u001b[34mDownloads\u001b[m\u001b[m/            \u001b[34mPublic\u001b[m\u001b[m/               \u001b[34mcodes\u001b[m\u001b[m/\r\n",
        "\u001b[34mLibrary\u001b[m\u001b[m/              Untitled0.ipynb       sample_multi_norm.py\r\n"
       ]
      }
     ],
     "prompt_number": 2
    },
    {
     "cell_type": "markdown",
     "metadata": {},
     "source": [
      "A simple Python code :"
     ]
    },
    {
     "cell_type": "code",
     "collapsed": false,
     "input": [
      "#Code to print Hello World\n",
      "\n",
      "print \"Hello, World!\" \n",
      "\n",
      "#Output displayed below this"
     ],
     "language": "python",
     "metadata": {},
     "outputs": [
      {
       "output_type": "stream",
       "stream": "stdout",
       "text": [
        "Hello, World!\n"
       ]
      }
     ],
     "prompt_number": 3
    },
    {
     "cell_type": "code",
     "collapsed": false,
     "input": [
      "#Code with basic plotting\n",
      "\n",
      "import math\n",
      "import numpy as np\n",
      "import matplotlib.pyplot as plt\n",
      "\n",
      "x = np.linspace(-math.pi, math.pi, 100)\n",
      "y = np.sin(x)\n",
      "plt.plot(x, y)\n",
      "plt.xlabel(\"$x$\")\n",
      "plt.ylabel(\"$sin(x)$\")\n",
      "plt.title(\"Sine curve\")\n",
      "plt.show()\n",
      "\n",
      "#Output shown below"
     ],
     "language": "python",
     "metadata": {},
     "outputs": [
      {
       "metadata": {},
       "output_type": "display_data",
       "png": "[encoded data removed]",
       "text": [
        "<matplotlib.figure.Figure at 0x10813e690>"
       ]
      }
     ],
     "prompt_number": 1
    },
    {
     "cell_type": "markdown",
     "metadata": {},
     "source": [
      "To create an Ipython notebook, simply type \"ipython notebook --pylab inline\" on the terminal and choose the 'New Notebook' option. The default directory is the home directory."
     ]
    }
   ],
   "metadata": {}
  }
 ]
}